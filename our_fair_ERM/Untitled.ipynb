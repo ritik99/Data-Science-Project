{
 "cells": [
  {
   "cell_type": "code",
   "execution_count": 1,
   "metadata": {},
   "outputs": [],
   "source": [
    "from sklearn.feature_extraction import FeatureHasher\n",
    "import pandas as pd\n",
    "from sklearn import preprocessing\n",
    "import numpy as np\n"
   ]
  },
  {
   "cell_type": "code",
   "execution_count": 2,
   "metadata": {},
   "outputs": [],
   "source": [
    "data_train = pd.read_csv(\n",
    "        \"./datasets/adult/adult.data\",\n",
    "        names=[\n",
    "            \"Age\", \"workclass\", \"fnlwgt\", \"education\", \"education-num\", \"marital-status\",\n",
    "            \"occupation\", \"relationship\", \"race\", \"gender\", \"capital gain\", \"capital loss\",\n",
    "            \"hours per week\", \"native-country\", \"income\"],\n",
    "            # dtype=object,\n",
    "            # sep=r'\\s*,\\s*',\n",
    "            # engine='python',\n",
    "            #na_values=\"?\"\n",
    "            )\n",
    "\n",
    "data_test = pd.read_csv(\n",
    "        \"./datasets/adult/adult.test\",\n",
    "        names=[\n",
    "            \"Age\", \"workclass\", \"fnlwgt\", \"education\", \"education-num\", \"marital-status\",\n",
    "            \"occupation\", \"relationship\", \"race\", \"gender\", \"capital gain\", \"capital loss\",\n",
    "            \"hours per week\", \"native-country\", \"income\"],\n",
    "            # dtype=object,\n",
    "            # sep=r'\\s*,\\s*',\n",
    "            # engine='python',\n",
    "            #na_values=\"?\"\n",
    "            )"
   ]
  },
  {
   "cell_type": "code",
   "execution_count": 3,
   "metadata": {},
   "outputs": [],
   "source": [
    "h = FeatureHasher(n_features=5,input_type='dict')\n"
   ]
  },
  {
   "cell_type": "code",
   "execution_count": 4,
   "metadata": {},
   "outputs": [],
   "source": [
    "\n",
    "\n",
    "for i in range(data_train.shape[0]):\n",
    "    if data_train.loc[i, 'income'] == ' <=50K':\n",
    "        data_train.loc[i, 'income'] = -1\n",
    "    else:\n",
    "        data_train.loc[i, 'income'] = 1\n",
    "        \n",
    "for i in range(data_test.shape[0]):\n",
    "    if data_test.loc[i, 'income'] == ' <=50K':\n",
    "        data_test.loc[i, 'income'] = -1\n",
    "    else:\n",
    "        data_test.loc[i, 'income'] = 1\n",
    "\n",
    "label_encoders = {}\n",
    "for col_name in ['workclass', 'education', 'marital-status', 'occupation', 'relationship', 'race', 'gender', 'native-country']:\n",
    "    le = preprocessing.LabelEncoder()\n",
    "    \n",
    "    data_train.loc[:, col_name] = le.fit_transform(list(data_train.loc[:, col_name]))\n",
    "    label_encoders[i] = le\n",
    "    data_test.loc[:, col_name] = le.transform(data_test.loc[:, col_name])        "
   ]
  },
  {
   "cell_type": "code",
   "execution_count": 5,
   "metadata": {},
   "outputs": [
    {
     "name": "stdout",
     "output_type": "stream",
     "text": [
      "24720 7841\n"
     ]
    }
   ],
   "source": [
    "count1 = 0\n",
    "count2 = 0\n",
    "for i in range(data_train.shape[0]):\n",
    "    if data_train.loc[i, 'income'] == -1:\n",
    "        count1+= 1\n",
    "    else:\n",
    "        count2 += 1\n",
    "        \n",
    "        \n",
    "print (count1, count2)"
   ]
  },
  {
   "cell_type": "code",
   "execution_count": 5,
   "metadata": {},
   "outputs": [],
   "source": [
    "d = []\n",
    "for i in range(data_train.shape[0]):\n",
    "    row = data_train.iloc[i,:]\n",
    "    row = row.drop(labels=['race'])\n",
    "    row = row.drop(labels=['income'])\n",
    "\n",
    "    t_dict = row.to_dict()\n",
    "    d.append(t_dict)\n",
    "    \n",
    "hashed_train = h.transform(d)"
   ]
  },
  {
   "cell_type": "code",
   "execution_count": 6,
   "metadata": {},
   "outputs": [],
   "source": [
    "d = []\n",
    "for i in range(data_test.shape[0]):\n",
    "    row = data_test.iloc[i,:]\n",
    "    row = row.drop(labels=['race'])\n",
    "    row = row.drop(labels=['income'])\n",
    "\n",
    "    t_dict = row.to_dict()\n",
    "    d.append(t_dict)\n",
    "    \n",
    "hashed_test = h.transform(d)\n",
    "    "
   ]
  },
  {
   "cell_type": "code",
   "execution_count": 7,
   "metadata": {},
   "outputs": [],
   "source": [
    "h_train = pd.DataFrame(hashed_train.toarray())\n",
    "h_train = pd.concat((h_train, data_train['race']), axis = 1)\n",
    "h_train = pd.concat((h_train, data_train['income']), axis = 1)"
   ]
  },
  {
   "cell_type": "code",
   "execution_count": 8,
   "metadata": {},
   "outputs": [],
   "source": [
    "h_test = pd.DataFrame(hashed_test.toarray())\n",
    "h_test = pd.concat((h_test, data_test['race']), axis = 1)\n",
    "h_test = pd.concat((h_test, data_test['income']), axis = 1)"
   ]
  },
  {
   "cell_type": "code",
   "execution_count": 9,
   "metadata": {},
   "outputs": [],
   "source": [
    "h_train.to_csv(\"hashed_adult_train.csv\", index = False)"
   ]
  },
  {
   "cell_type": "code",
   "execution_count": 10,
   "metadata": {},
   "outputs": [],
   "source": [
    "h_test.to_csv(\"hashed_adult_test.csv\", index = False)"
   ]
  },
  {
   "cell_type": "code",
   "execution_count": 11,
   "metadata": {},
   "outputs": [],
   "source": [
    "temp = pd.read_csv(\"hashed_adult_train.csv\")"
   ]
  },
  {
   "cell_type": "code",
   "execution_count": 12,
   "metadata": {},
   "outputs": [
    {
     "data": {
      "text/plain": [
       "(32561, 7)"
      ]
     },
     "execution_count": 12,
     "metadata": {},
     "output_type": "execute_result"
    }
   ],
   "source": [
    "temp.shape"
   ]
  },
  {
   "cell_type": "code",
   "execution_count": 13,
   "metadata": {},
   "outputs": [
    {
     "name": "stdout",
     "output_type": "stream",
     "text": [
      "             0         1    2     3      4  race  income\n",
      "0       2170.0   77529.0  0.0  36.0   79.0     4      -1\n",
      "1         -2.0   83324.0  0.0  47.0   55.0     4      -1\n",
      "2          0.0  215655.0  0.0  30.0   84.0     4      -1\n",
      "3         -2.0  234728.0  0.0  56.0   84.0     2      -1\n",
      "4         -2.0  338422.0  0.0  18.0   55.0     2      -1\n",
      "5         -2.0  284596.0  0.0  24.0   83.0     4      -1\n",
      "6         -3.0  160192.0  0.0  46.0   47.0     2      -1\n",
      "7         -2.0  209651.0  0.0  47.0   87.0     4       1\n",
      "8      14080.0   45795.0  0.0  22.0   99.0     4       1\n",
      "9       5176.0  159462.0  0.0  37.0   82.0     4       1\n",
      "10        -2.0  280474.0  0.0  26.0  122.0     2       1\n",
      "11        -2.0  141310.0  0.0  28.0   68.0     1       1\n",
      "12        -4.0  122285.0  0.0  15.0   70.0     4      -1\n",
      "13        -4.0  205031.0  0.0  28.0  100.0     2      -1\n",
      "14        -2.0  121783.0  0.0  36.0   42.0     1       1\n",
      "15        -2.0  245491.0  0.0  33.0   84.0     0      -1\n",
      "16        -4.0  176765.0  0.0  17.0   78.0     4      -1\n",
      "17        -4.0  186833.0  0.0  21.0   85.0     4      -1\n",
      "18        -2.0   28894.0  0.0  41.0  100.0     4      -1\n",
      "19         0.0  292189.0  0.0  33.0   88.0     4       1\n",
      "20        -2.0  193540.0  0.0  34.0  108.0     4       1\n",
      "21        -5.0  302155.0  0.0  43.0   67.0     2      -1\n",
      "22        -2.0   76850.0  0.0  30.0   83.0     2      -1\n",
      "23        -2.0  119086.0  0.0  46.0   92.0     4      -1\n",
      "24         0.0  109024.0  0.0  48.0   92.0     4      -1\n",
      "25        -2.0  216864.0  0.0  49.0   91.0     4       1\n",
      "26        -4.0  168303.0  0.0   9.0   81.0     4      -1\n",
      "27        -2.0  180221.0  0.0  39.0   94.0     1       1\n",
      "28         0.0  367269.0  0.0  31.0  122.0     4      -1\n",
      "29        -2.0  193375.0  0.0  42.0   81.0     4      -1\n",
      "...        ...       ...  ...   ...    ...   ...     ...\n",
      "32531     -4.0   33824.0  0.0  20.0  138.0     1      -1\n",
      "32532     -2.0  204477.0  0.0  28.0  108.0     4       1\n",
      "32533     -2.0  338005.0  0.0  49.0   77.0     1       1\n",
      "32534      0.0  179147.0  0.0  22.0   79.0     4      -1\n",
      "32535     -4.0  325041.0  0.0  21.0   84.0     2      -1\n",
      "32536     -4.0  160229.0  0.0  28.0   98.0     4       1\n",
      "32537     -4.0  345907.0  0.0  22.0   87.0     2      -1\n",
      "32538  15020.0  139193.0  0.0  29.0   94.0     2       1\n",
      "32539     -2.0  287388.0  0.0  61.0   48.0     4       1\n",
      "32540     -5.0  252217.0  0.0  38.0   80.0     4      -1\n",
      "32541     -5.0  202831.0  0.0  29.0   71.0     2      -1\n",
      "32542     -2.0  129921.0  0.0  61.0   63.0     4      -1\n",
      "32543      0.0  119211.0  0.0  36.0   97.0     4      -1\n",
      "32544      0.0  199669.0  0.0  22.0   77.0     3      -1\n",
      "32545     -2.0  111511.0  0.0  29.0   60.0     4       1\n",
      "32546      0.0  198228.0  0.0  33.0   92.0     4      -1\n",
      "32547     -2.0  260770.0  0.0  36.0   72.0     4      -1\n",
      "32548   1082.0   99374.0  0.0  56.0  108.0     4      -1\n",
      "32549      0.0  255845.0  0.0  33.0   80.0     4      -1\n",
      "32550     -2.0   27252.0  0.0  34.0   91.0     4      -1\n",
      "32551     -2.0   34072.0  0.0  36.0   84.0     0      -1\n",
      "32552     -2.0   84672.0  0.0  39.0   95.0     4      -1\n",
      "32553     -4.0  116152.0  0.0  23.0   59.0     1      -1\n",
      "32554     -2.0  321879.0  0.0  45.0   82.0     4       1\n",
      "32555     -4.0  310162.0  0.0  10.0   89.0     4      -1\n",
      "32556     -2.0  257314.0  0.0  19.0   90.0     4      -1\n",
      "32557     -2.0  154383.0  0.0  33.0   85.0     4       1\n",
      "32558     -6.0  151919.0  0.0  47.0   80.0     4      -1\n",
      "32559     -4.0  201499.0  0.0  12.0   59.0     4      -1\n",
      "32560  15022.0  287936.0  0.0  41.0   83.0     4       1\n",
      "\n",
      "[32561 rows x 7 columns]\n"
     ]
    }
   ],
   "source": [
    "print (temp)"
   ]
  },
  {
   "cell_type": "code",
   "execution_count": 1,
   "metadata": {},
   "outputs": [],
   "source": [
    "import matplotlib.pyplot as plt\n",
    "train_acc = [0.7843980343980343, 0.7985257985257985, 0.8126535626535627, 0.7886977886977887, 0.8230958230958231, 0.8040540540540541]\n",
    "test_acc = [0.7620539278914071, 0.7606412382531785, 0.6916651311344512, 0.7706529082980161, 0.744241754192003, 0.6561022050242614]\n",
    "\n",
    "train_deop = [0.10766946348537745, 0.05718140576024783, 0.03724047645790979, 0.05187539450323836, 0.046977561743440366, 0.014738505584994288]\n",
    "test_deop = [0.01110253647286941, 0.07482694505096524, 0.17044852090615664, 0.019047686505625966, 0.026176893458170022, 0.04325094348065986]\n"
   ]
  },
  {
   "cell_type": "code",
   "execution_count": 2,
   "metadata": {},
   "outputs": [],
   "source": [
    "x = list(range(5,11))\n",
    "# create an index for each tick position\n",
    "xi = [i for i in range(0, len(x))]\n",
    "\n"
   ]
  },
  {
   "cell_type": "code",
   "execution_count": 3,
   "metadata": {},
   "outputs": [
    {
     "data": {
      "image/png": "[encoded data removed]",
      "text/plain": [
       "<matplotlib.figure.Figure at 0x7f3362a7e630>"
      ]
     },
     "metadata": {
      "needs_background": "light"
     },
     "output_type": "display_data"
    }
   ],
   "source": [
    "plt.title(\"Accuracy vs Number of Hash Bins\")\n",
    "plt.xlabel(\"Number of bins\")\n",
    "plt.ylabel (\"Accuracy\")\n",
    "plt.plot(train_acc, label = \"Train\")\n",
    "plt.plot(test_acc, label = \"Test\")\n",
    "plt.legend()\n",
    "plt.xticks(xi, x)\n",
    "plt.savefig(\"AccuracyOverBins\")\n",
    "plt.show()"
   ]
  },
  {
   "cell_type": "code",
   "execution_count": 4,
   "metadata": {},
   "outputs": [
    {
     "data": {
      "image/png": "[encoded data removed]",
      "text/plain": [
       "<matplotlib.figure.Figure at 0x7f3362aa12b0>"
      ]
     },
     "metadata": {
      "needs_background": "light"
     },
     "output_type": "display_data"
    }
   ],
   "source": [
    "plt.title(\"DEOd vs Number of Hash Bins\")\n",
    "plt.xlabel(\"Number of bins\")\n",
    "plt.ylabel (\"DEOd\")\n",
    "plt.plot(train_deop, label = \"Train\")\n",
    "plt.plot(test_deop, label = \"Test\")\n",
    "plt.legend()\n",
    "plt.xticks(xi, x)\n",
    "plt.savefig(\"DEOPOverBins\")\n",
    "plt.show()"
   ]
  },
  {
   "cell_type": "code",
   "execution_count": null,
   "metadata": {},
   "outputs": [],
   "source": []
  }
 ],
 "metadata": {
  "kernelspec": {
   "display_name": "Python 3",
   "language": "python",
   "name": "python3"
  },
  "language_info": {
   "codemirror_mode": {
    "name": "ipython",
    "version": 3
   },
   "file_extension": ".py",
   "mimetype": "text/x-python",
   "name": "python",
   "nbconvert_exporter": "python",
   "pygments_lexer": "ipython3",
   "version": "3.5.2"
  }
 },
 "nbformat": 4,
 "nbformat_minor": 2
}
